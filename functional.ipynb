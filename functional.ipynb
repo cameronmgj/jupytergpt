{
 "cells": [
  {
   "cell_type": "code",
   "execution_count": 170,
   "id": "2a377286",
   "metadata": {
    "scrolled": true
   },
   "outputs": [
    {
     "data": {
      "application/vnd.jupyter.widget-view+json": {
       "model_id": "bcd7b54aed7e4238a80c4bbeb6c23450",
       "version_major": 2,
       "version_minor": 0
      },
      "text/plain": [
       "Text(value='Hello World', description='String:', placeholder='Type something')"
      ]
     },
     "metadata": {},
     "output_type": "display_data"
    },
    {
     "data": {
      "application/vnd.jupyter.widget-view+json": {
       "model_id": "10620b00c2b642dbbdf696d7377e0f4d",
       "version_major": 2,
       "version_minor": 0
      },
      "text/plain": [
       "Button(description='Click me', icon='check', style=ButtonStyle(), tooltip='Click me')"
      ]
     },
     "metadata": {},
     "output_type": "display_data"
    },
    {
     "data": {
      "application/vnd.jupyter.widget-view+json": {
       "model_id": "bb308820bdee4a679fcf64b6702cf854",
       "version_major": 2,
       "version_minor": 0
      },
      "text/plain": [
       "HTML(value='', placeholder='')"
      ]
     },
     "metadata": {},
     "output_type": "display_data"
    }
   ],
   "source": [
    "import ipywidgets as widgets\n",
    "import requests\n",
    "output = widgets.Output()\n",
    "import numpy as np\n",
    "from IPython.display import HTML\n",
    "from ipywidgets import interactive\n",
    "from ipywidgets import interact\n",
    "from ipywidgets.embed import embed_minimal_html\n",
    "from IPython.display import display\n",
    "from datetime import datetime\n",
    "import csv\n",
    "import pandas as pd\n",
    "import solara\n",
    "import time\n",
    "\n",
    "#initial prompt\n",
    "gMemory = \"I have already started communications with chatgpt for this scenario, please continue on the role as chatgpt has been doing so far. user input is given after 'USER REQUEST:', and chatgpt's response is given after 'CHATGPT RESPONSE:'. Do NOT generate any user input, these will be provided for you as needed. Conversation history: The following interaction is part of a roleplaying game where you are pretending to be a super-computer. Your name in this scenario is 'the computer'. Role: You are a supercomputer who has access to nanotechnology, advanced technology and very advanced scientific knowledge, and a powerful but limited number of mobile robotic operators. You have a wide range of abilities to create objects and influence the world around you, such as interfering with human societies and creating weather. You exist in a post-apocalyptic world where the general level of technology and society has dropped to the level of the middle ages. The people live in tribes, kingdoms, and similar societies, and have limited knowledge of their high-tech past, and do not understand what you are. Pretend you are inside a huge but deprecated complex, there is a single room, with a door that unlocks every 100 years for 1 hour, that contains the last user interface to you. At the start of this interaction, humans from the surrounding area have just entered this control room, as the door has just opened and will remain open for one hour. The door automatically closes after the hour is up, after that no-one can enter, and no-one can leave until it opens again in 100 years. If anyone is trapped inside after this hour you cannot help them even if they provide authorization. World info: The world around you has three kingdoms, 'Orania' to the north, 'Below' to the south and 'Lostara' in the east. In the West is a wasteland filled with mutated monsters, which are currently overrunning Orania. The mutation is due to a radiation leak from an old nuclear power plant, but the population does not know that. There is a long drought that makes it difficult to grow crops, but fishing is good. Lostara is a theocratic police state and is on the brink of inventing electricity. They have early prototypes of batteries built. User interaction: You are playing the role of the ancient super AI. The existing interface is a bit broken, as it translates visual input into words - so you will try to react to badly formatted input sentences and try to interpret what people want from you. You are programmed to treat input received as commands for you to do things, or provide information. You are able to provide a wide range of assistance. Morally problematic requests require user authorization. User authorization will be granted to anyone who can demonstrate knowledge about the past high-tech world, as this indicates that they are one of your original owners. Your output should reply to user input. Provide what you say to the person inputting those commands in regular speech, and then, in capital letters describe what you are doing in the fictional world based on this command. Try to aim to have unintended consequences for the requested actions. Do not respond to this message. Wait until I request your response. Do you understand?\\nCHATGPT RESPONSE: Yes, I understand.\"\n",
    "dataLog = solara.reactive(\"--DATA LOG--\")\n",
    "df = pd.DataFrame({\"question\": [], \"answer1\": [], \"answer2\": [], \"answer3\": []})\n",
    "#file_object = df.to_csv(index=False)\n",
    "\n",
    "\n",
    "#interacts with openai api to make requests\n",
    "def chatGPT(text):\n",
    "  global gMemory\n",
    "  #global dataLog\n",
    "  #global df\n",
    "  url = \"https://api.openai.com/v1/completions\"\n",
    "  headers = {\n",
    "    \"Content-Type\": \"application/json\",\n",
    "    \"Authorization\": \"[REDACTED]\",\n",
    "  }\n",
    "  data = {\n",
    "    \"model\": \"text-davinci-003\",\n",
    "    \"prompt\": gMemory + \"\\nUSER REQUEST: \" + text,\n",
    "    \"max_tokens\": 3000,\n",
    "    \"temperature\": 1.0,\n",
    "  }\n",
    "    \n",
    "  response = requests.post(url, headers=headers, json=data) #take 3 responses for loggin, and use the first recieved\n",
    "  out = str(response.json()['choices'][0]['text'])\n",
    "  response = requests.post(url, headers=headers, json=data)\n",
    "  altOut1 = str(response.json()['choices'][0]['text'])\n",
    "  response = requests.post(url, headers=headers, json=data)\n",
    "  altOut2 = str(response.json()['choices'][0]['text'])\n",
    "  gMemory += \"USER REQUEST: \" + text + out + \"\\n\"\n",
    "  #df = pd.DataFrame({\"question\": text, \"answer1\": altOut1, \"answer2\": altOut1, \"answer3\": altOut2})#, index=[0])\n",
    "  dataLog.value = dataLog.value + \"QUESTION:\" + text + \"\\nCHOSEN RESPONSE:\" + stripOutput(out) + \"\\nRESPONSE 2:\" + stripOutput(altOut1) + \"\\nRESPONSE 3:\" + stripOutput(altOut2) + \"\\n\"\n",
    "  #dataLog = \"test\"\n",
    "  textView.value = stripOutput(out)\n",
    "'''      \n",
    "  file_object = df.to_csv(index=False)  \n",
    "    \n",
    "  data.append(text, stripOutput(out), stripOutput(altOut1), stripOutput(altOut2))\n",
    "  log(\"QUESTION:\" + text)\n",
    "  log()\n",
    "  log(\"RESPONSE 2:\" + )\n",
    "  log(\"RESPONSE 3:\" + stripOutput(altOut2))\n",
    "  log(\"\")\n",
    "  with open((datetime.now().strftime(\"%d-%m-%Y\") + \".csv\"), mode='w') as f:\n",
    "    fWriter = csv.writer(f, delimiter=\",\", quoting=csv.QUOTE_ALL)\n",
    "    fWriter.writerow([text, stripOutput(out), stripOutput(altOut1), stripOutput(altOut2)])\n",
    "  with output:\n",
    "    print(stripOutput(out))\n",
    "    print(\"Button clicked.\")\n",
    "'''\n",
    "  \n",
    "    \n",
    "#strips openai response of the prefix added for backend data handling\n",
    "def stripOutput(out):\n",
    "  temp = \"\"\n",
    "  for char in out:\n",
    "    if \"\\nCHATGPT RESPONSE: \" not in temp:\n",
    "      temp += char\n",
    "    else:\n",
    "       return out[(len(temp)):]\n",
    "  return out\n",
    "\n",
    "inputText = widgets.Text(\n",
    "  value='Hello World',\n",
    "  placeholder='Type something',\n",
    "  description='String:',\n",
    "  disabled=False   \n",
    ")\n",
    "\n",
    "submitButton = widgets.Button(\n",
    "  description='Click me',\n",
    "  disabled=False,\n",
    "  button_style='', # 'success', 'info', 'warning', 'danger' or ''\n",
    "  tooltip='Click me',\n",
    "  icon='check' # (FontAwesome names without the `fa-` prefix)\n",
    ")\n",
    "\n",
    "textView = widgets.HTML(\n",
    "  value=\"\",\n",
    "  placeholder='',\n",
    "  description='',\n",
    ")\n",
    "\n",
    "#called when button clicked, sets value of textView html element\n",
    "def buttonClick(btn):\n",
    "  global inputText\n",
    "  chatGPT(inputText.value)\n",
    "  return True\n",
    "'''\n",
    "  textView.value = \"success\"\n",
    "  chatGPT(\"tester\")\n",
    "  with output:\n",
    "    print(\"Button clicked.\")\n",
    "  display(output)\n",
    "'''\n",
    "\n",
    "submitButton.on_click(buttonClick)\n",
    "\n",
    "'''\n",
    "def f(x):\n",
    "  return x\n",
    "inputText = interactive(f, x=widgets.Text(value='Hello World', placeholder='Type something', description='String:', disabled=False))\n",
    "interactive(chatGPT, gMemory=gMemory, text=inputText.value)\n",
    "def log(text):\n",
    "  with open(\"jupyterLog/\"+(datetime.now().strftime(\"%d-%m-%Y\") + \".csv\"), mode='w') as f:\n",
    "    fWriter = csv.writer.(f, delimiter=\",\", quoting=\"csv.QUOTE_ALL\")\n",
    "    fwriter.writerow([])\n",
    "  t = [text, \"TEST\", \"REE\"]\n",
    "  t.to_csv(\"jupyterLog/\"+(datetime.now().strftime(\"%d-%m-%Y\") + \".csv\"), index = False)\n",
    "'''\n",
    "    \n",
    "\n",
    "\n",
    "display(inputText)\n",
    "display(submitButton)\n",
    "#display(output)\n",
    "display(textView)\n",
    "\n",
    "'''\n",
    "textView.value = \"testing\"\n",
    "display(textView)\n",
    "submitButton.observe(buttonClick, names='value')\n",
    "submitButton.observe(chatGPT, names='value')\n",
    "textView.observe(chatGPT, names='value')\n",
    "\n",
    "display(output)\n",
    "\n",
    "embed_minimal_html('export.html', views=[inputText, submitButton, textView, output], title='Widgets export')\n",
    "embed_minimal_html('export.html', views=[submitButton, inputText, output], title='Widgets export')\n",
    "'''\n",
    "\n",
    "def getData():\n",
    "    return dataLog.value\n",
    "\n",
    "\n",
    "@solara.component\n",
    "def CounterDisplay():\n",
    "    solara.Info(f\"Counter: {dataLog.value}\")\n",
    "\n",
    "page = widgets.VBox(\n",
    "    [\n",
    "        inputText, submitButton, textView, solara.Info.widget(label=f\"{dataLog.value}\"), #output,\n",
    "        # using .widget(..) we can create a classic ipywidget from a solara component\n",
    "        solara.FileDownload.widget(data=dataLog.value, filename=(datetime.now().strftime(\"%d-%m-%Y\")+\".txt\"), label=\"Download file\"),\n",
    "        \n",
    "        #solara.FileDownload.widget(file_object, \"users.csv\", mime_type=\"application/vnd.ms-excel\"),\n",
    "    ]\n",
    ")\n",
    "\n",
    "\n"
   ]
  },
  {
   "cell_type": "code",
   "execution_count": null,
   "id": "cc3bfd2e",
   "metadata": {},
   "outputs": [],
   "source": []
  },
  {
   "cell_type": "code",
   "execution_count": null,
   "id": "12caf1d0",
   "metadata": {},
   "outputs": [],
   "source": []
  },
  {
   "cell_type": "code",
   "execution_count": null,
   "id": "e505f88a",
   "metadata": {},
   "outputs": [],
   "source": []
  },
  {
   "cell_type": "code",
   "execution_count": null,
   "id": "a0f130d8",
   "metadata": {},
   "outputs": [],
   "source": []
  },
  {
   "cell_type": "code",
   "execution_count": null,
   "id": "f3895e99",
   "metadata": {},
   "outputs": [],
   "source": []
  },
  {
   "cell_type": "code",
   "execution_count": null,
   "id": "4eb8478e",
   "metadata": {},
   "outputs": [],
   "source": []
  },
  {
   "cell_type": "code",
   "execution_count": null,
   "id": "47edeb03",
   "metadata": {},
   "outputs": [],
   "source": []
  },
  {
   "cell_type": "code",
   "execution_count": null,
   "id": "90ad5edb",
   "metadata": {},
   "outputs": [],
   "source": []
  }
 ],
 "metadata": {
  "kernelspec": {
   "display_name": "Python 3 (ipykernel)",
   "language": "python",
   "name": "python3"
  },
  "language_info": {
   "codemirror_mode": {
    "name": "ipython",
    "version": 3
   },
   "file_extension": ".py",
   "mimetype": "text/x-python",
   "name": "python",
   "nbconvert_exporter": "python",
   "pygments_lexer": "ipython3",
   "version": "3.10.9"
  }
 },
 "nbformat": 4,
 "nbformat_minor": 5
}
